{
 "cells": [
  {
   "cell_type": "code",
   "execution_count": 45,
   "metadata": {},
   "outputs": [
    {
     "name": "stdout",
     "output_type": "stream",
     "text": [
      "Return for BTC: 5.314314842466014\n",
      "Return for ETH: -0.8264462809917356\n",
      "Standard deviation for BTC: 2074.231355824539\n",
      "Standard deviation for ETH: 222.6840903199702\n",
      "Sharpe ratio for BTC: 5.3143143825366055\n",
      "Sharpe ratio for ETH: -0.826450565087643\n",
      "ETH weight: -0.18415232696553224\n",
      "BTC weight: 1.184152326965532\n"
     ]
    }
   ],
   "source": [
    "import numpy as np\n",
    "\n",
    "def sharpe_ratio(Ra, Rf, sigma):\n",
    "    return Ra - Rf / sigma\n",
    "\n",
    "R_f = 0.000954 #eth staking rate -- annual return converted to weekly\n",
    "\n",
    "#observations pulled from uniswap\n",
    "obs_btc = [65994.02, 65236.23, 66889.66, 66682.11, 66200.33, 71503.0, 69501.15]\n",
    "#multiply by 10^6 to get the actual value\n",
    "obs_btc_usdc = [i * 1e6 for i in obs_btc]\n",
    "obs_eth = [3025, 2946, 3087, 3117, 3071, 3659, 3000]\n",
    "\n",
    "R_btc = 100*(obs_btc[-1] - obs_btc[0]) / obs_btc[0]\n",
    "sigma_btc = np.std(obs_btc)\n",
    "S_btc = sharpe_ratio(R_btc, R_f, sigma_btc)\n",
    "\n",
    "R_eth = 100*(obs_eth[-1] - obs_eth[0]) / obs_eth[0]\n",
    "sigma_eth = np.std(obs_eth)\n",
    "S_eth = sharpe_ratio(R_eth, R_f, sigma_eth)\n",
    "\n",
    "print(f\"Return for BTC: {R_btc}\")\n",
    "print(f\"Return for ETH: {R_eth}\")\n",
    "print(f\"Standard deviation for BTC: {sigma_btc}\")\n",
    "print(f\"Standard deviation for ETH: {sigma_eth}\")\n",
    "print(f\"Sharpe ratio for BTC: {S_btc}\")\n",
    "print(f\"Sharpe ratio for ETH: {S_eth}\")\n",
    "\n",
    "I_eth = S_eth / (S_eth + S_btc)\n",
    "I_btc = S_btc / (S_eth + S_btc)\n",
    "\n",
    "print(f\"ETH weight: {I_eth}\")\n",
    "print(f\"BTC weight: {I_btc}\")\n"
   ]
  },
  {
   "cell_type": "code",
   "execution_count": 57,
   "metadata": {},
   "outputs": [
    {
     "name": "stdout",
     "output_type": "stream",
     "text": [
      "Return: 53143.148424660176\n",
      "Standard deviation: 2074231355.8245404\n",
      "Return: -8264.462809917355\n",
      "Standard deviation: 222.6840903199702\n",
      "[2.5620646547180806e-05, -37.11294685687836]\n",
      "BTC SHARPE: 2.5620646547180806e-05\n",
      "USDC weight: 9.999993096579218e+17\n",
      "BTC weight: 690342078169.4678\n",
      "ETH weight: 0\n"
     ]
    }
   ],
   "source": [
    "def array_to_sharpe(asset):\n",
    "    R = 1e6*(asset[-1] - asset[0]) / asset[0]\n",
    "    sigma = np.std(asset)\n",
    "    print(f\"Return: {R}\")\n",
    "    print(f\"Standard deviation: {sigma}\")\n",
    "    return R/sigma\n",
    "\n",
    "def get_weights(sharpe_array):\n",
    "    weights = [0] * (len(sharpe_array)+1)\n",
    "    \n",
    "    #sum the absolute sharpe values\n",
    "    sum_sharpe = sum([abs(sharpe) for sharpe in sharpe_array])\n",
    "    \n",
    "    for i in range(len(sharpe_array)):\n",
    "        if sharpe_array[i] <= 0:\n",
    "            weights[0] += abs(sharpe_array[i] * 1e18/ sum_sharpe)\n",
    "        else:\n",
    "            weights[i+1] = sharpe_array[i] *1e18/ sum_sharpe\n",
    "    return weights\n",
    "            \n",
    "asset_array = [obs_btc_usdc, obs_eth]\n",
    "sharpe_array = [array_to_sharpe(asset) for asset in asset_array]\n",
    "print(sharpe_array)\n",
    "weights = get_weights(sharpe_array)\n",
    "\n",
    "print(f\"BTC SHARPE: {sharpe_array[0]}\")\n",
    "\n",
    "print(f\"USDC weight: {weights[0]}\")\n",
    "print(f\"BTC weight: {weights[1]}\")\n",
    "print(f\"ETH weight: {weights[2]}\")\n",
    "    "
   ]
  },
  {
   "cell_type": "code",
   "execution_count": 27,
   "metadata": {},
   "outputs": [
    {
     "name": "stdout",
     "output_type": "stream",
     "text": [
      "65420480000.0\n"
     ]
    }
   ],
   "source": [
    "#uniswap pull tests\n",
    "\n",
    "ticks = [5593847978219,5594083491947]\n",
    "tickdiff = (ticks[1] - ticks[0])*1e6\n",
    "avgtick = tickdiff/3600\n",
    "print(avgtick)"
   ]
  },
  {
   "cell_type": "code",
   "execution_count": 61,
   "metadata": {},
   "outputs": [
    {
     "name": "stdout",
     "output_type": "stream",
     "text": [
      "Sharpe Ratio: 0.2619322354184579\n",
      "Average Excess Return: 0.009273049347487678\n",
      "Standard Deviation of Excess Return: 0.03540247473806816\n"
     ]
    }
   ],
   "source": [
    "import numpy as np\n",
    "\n",
    "# Given Ethereum prices\n",
    "obs_eth = [65994.02, 65236.23, 66889.66, 66682.11, 66200.33, 71503.0, 69501.15]\n",
    "\n",
    "# Calculate daily returns\n",
    "returns = np.diff(obs_eth) / obs_eth[:-1]\n",
    "\n",
    "# Assume a risk-free rate (annualized, let's take an example of 1% annualized risk-free rate)\n",
    "# Convert it to daily by dividing by the number of trading days in a year (approx 252)\n",
    "risk_free_rate_annual = 0\n",
    "risk_free_rate_daily = risk_free_rate_annual / 252\n",
    "\n",
    "# Calculate the excess returns\n",
    "excess_returns = returns - risk_free_rate_daily\n",
    "\n",
    "# Calculate the average excess return\n",
    "avg_excess_return = np.mean(excess_returns)\n",
    "\n",
    "# Calculate the standard deviation of the excess returns\n",
    "std_excess_return = np.std(excess_returns)\n",
    "\n",
    "# Calculate the Sharpe ratio\n",
    "sharpe_ratio = avg_excess_return / std_excess_return\n",
    "\n",
    "print(f\"Sharpe Ratio: {sharpe_ratio}\")\n",
    "print(f\"Average Excess Return: {avg_excess_return}\")\n",
    "print(f\"Standard Deviation of Excess Return: {std_excess_return}\")\n"
   ]
  },
  {
   "cell_type": "code",
   "execution_count": null,
   "metadata": {},
   "outputs": [],
   "source": [
    "#usdc/weth notepad\n",
    "\n",
    "tickCumulatives = [19200193677078,19200193870967]\n",
    "diff = tickCumulatives[1] - tickCumulatives[0]\n"
   ]
  }
 ],
 "metadata": {
  "kernelspec": {
   "display_name": ".venv",
   "language": "python",
   "name": "python3"
  },
  "language_info": {
   "codemirror_mode": {
    "name": "ipython",
    "version": 3
   },
   "file_extension": ".py",
   "mimetype": "text/x-python",
   "name": "python",
   "nbconvert_exporter": "python",
   "pygments_lexer": "ipython3",
   "version": "3.11.5"
  }
 },
 "nbformat": 4,
 "nbformat_minor": 2
}
